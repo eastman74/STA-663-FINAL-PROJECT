{
 "cells": [
  {
   "cell_type": "markdown",
   "metadata": {},
   "source": [
    "# $$Scalable\\ Kmeans\\ Plus\\ Plus$$\n",
    "## $$Final\\ Project\\ of\\ STA663$$\n",
    "### $$Jiancong\\ Zhu\\ \\&\\ William\\ Eastman$$"
   ]
  },
  {
   "cell_type": "markdown",
   "metadata": {},
   "source": [
    "# Part I\n",
    "# Introduction and Background:  "
   ]
  },
  {
   "cell_type": "markdown",
   "metadata": {},
   "source": [
    "**Long-popular and ubiquitous in its application, k-means clustering remains one of the most widely used unsupervised learning methods today. Despite its popularity and ease of use, the algorithm, in its most basic form, suffers from several theoretical limitations. Its solutions, though locally optimal, can be very far from global optima even under repeated random initialization. Certain initializations also result in computational issues. \n",
    ".** \n",
    "  \n",
    "**When the initial set of centers is suboptimal, the final solution can be very poor or not even converge. Therefore, a proper initialization of k-means is crucial for obtaining a good final solution. Compared with selecting the initial set of centers randomly, the more recently proposed kmeans++ initialization algorithm is superior and can obtain an initial set of centers that is provably close to the optimum solution. However, kmeans++ initialization algorithm also has its disadvantage, with its major downside being its inherent sequential nature, which limits its applicability to massive data. A naive implementation of k-means++ initialization will make k passes over the data. When the data is massive, then k may be also very large and the k-means++ initialization would be very slow as a result.**\n",
    "  \n",
    "**The paper introduces an parallel version of k-means++, which is called scalable kmeans++ initialization algorithm or k-means|| initialization algorithm. K-means|| can somewhat solve the downside of k-means++ described above. K-means++ initialization algoritm produces one center each round, while k-means|| may produce several centers each iteration.** \n",
    "  \n",
    "**In this project, we will perform k-means algorithm on both synthetic datasets and real world data with initial set of centers simulated by random selecting initialization algorithm, k-means++ initialization algorithm and k=means|| initialization algorithm respectively.** \n",
    "\n",
    "**We will implement these three initialization algorithm and compare the results of them.**"
   ]
  },
  {
   "cell_type": "markdown",
   "metadata": {},
   "source": [
    "### K-means Clustering:"
   ]
  },
  {
   "cell_type": "markdown",
   "metadata": {},
   "source": [
    "**Let X={$x_1,...,x_n$} be a set of points in the d-dimensional Euclidean spance and let k be a positive integer specifying the number of clusters.**\n",
    "\n",
    "**Let $||x_i-x_j||$ donate the Euclidean distance between $x_i$ and $x_j$. For a point $x$ and a subset $Y \\in X$ of points, the distance is defined as $d(x,Y)=min_{y \\in Y}||x-y||$.**\n",
    "\n",
    "**For a subset $Y \\in X$ of points, the centroid is given by $$centroid(Y)=\\frac{1}{|Y|}\\Sigma _{y \\in Y} y$$**\n",
    "\n",
    "**Let $C$={c_1,...,c_k} be a set of points and let $Y \\in X$. We define the cost of Y with respect to $C$ as $$\\phi _Y(C)=d^2(y,C)=\\Sigma_ {y \\in Y} min_{i=1,...,k} ||y-c_i||^2$$**\n",
    "\n",
    "**The goal of k-means clustering is to choose a set of $C$ of k centers to minimize $\\phi _X(C).$**"
   ]
  },
  {
   "cell_type": "markdown",
   "metadata": {},
   "source": [
    "$$\\\\\\\\$$\n",
    "\n",
    "**As discussed above, the initial set of centers has big effects on the k-means result. Generally, the smaller the $\\phi _X(C)$, the better k-means result we get.**\n",
    "\n",
    "**When the dataset and initial set of centers are given, apply Lloyd iterations to the them until the max iterations or convergence.**\n",
    "\n",
    "**Therefore, the initial set of centers we want to get is that, after Lloyd iterations, the final $\\phi _X(C)$ will be as same as possible.**"
   ]
  },
  {
   "cell_type": "markdown",
   "metadata": {},
   "source": [
    "## Import Modules:"
   ]
  },
  {
   "cell_type": "code",
   "execution_count": 1,
   "metadata": {
    "collapsed": true
   },
   "outputs": [],
   "source": [
    "import numpy as np\n",
    "import pandas as pd\n",
    "from numba import jit"
   ]
  },
  {
   "cell_type": "markdown",
   "metadata": {},
   "source": [
    "# Part II\n",
    "# Data Preparation:"
   ]
  },
  {
   "cell_type": "markdown",
   "metadata": {},
   "source": [
    "### 1. Synthetic Dataset:"
   ]
  },
  {
   "cell_type": "markdown",
   "metadata": {},
   "source": [
    "**We construct the gaussmix function to simulate the synthetic dataset--GaussMixture dataset.**\n",
    "\n",
    "\n",
    "\n",
    "**Process of simulating the GaussMixture dataset:**\n",
    "\n",
    "**1. Simulate k centers with mean as the origin and sphere variance as r.**\n",
    "\n",
    "**2. For each center of the k centers, add n points to it with unit sphere variance.**\n",
    "\n",
    "\n",
    "**Therefore, k stands for the number of clusters, d stands for the dimension, n stands for the points added to each center and r is the sphere variance of the simulated k centers. The total number of points in the simulated dataset is $k*(n+1)$.**"
   ]
  },
  {
   "cell_type": "code",
   "execution_count": 2,
   "metadata": {
    "collapsed": true
   },
   "outputs": [],
   "source": [
    "#GaussMitxture\n",
    "#simulate data\n",
    "#k is the number of simulated centroids\n",
    "#d is the dimension\n",
    "#n is the number of points simulated around each centroid\n",
    "#r is the sphere variance for simulated centroids\n",
    "def gaussmix(k,d,n,r):\n",
    "    #expected value of each centroid\n",
    "    mean=np.zeros(d)\n",
    "    #coviance matrix of simulated centroids\n",
    "    covk=np.diag([r]*d)\n",
    "    #simulate k centroids\n",
    "    centers=np.random.multivariate_normal(mean,covk,k)\n",
    "    #coviance matrix of points simulated around each centroid\n",
    "    covu=np.diag([1]*d)\n",
    "    #simulate n points around each centroid\n",
    "    data=np.random.multivariate_normal(centers[0],covu,n)\n",
    "    labels=list(range(1,k+1))+[1]*n\n",
    "    for i in range(1,k):\n",
    "        data=np.r_[data,np.random.multivariate_normal(centers[i],covu,n)]\n",
    "        labels.extend([i+1]*n)\n",
    "    return centers,np.r_[centers,data],np.array(labels)"
   ]
  },
  {
   "cell_type": "markdown",
   "metadata": {},
   "source": [
    "**To make the results same for each time so that the paper can be reproduced, we set a seed.**"
   ]
  },
  {
   "cell_type": "code",
   "execution_count": 3,
   "metadata": {
    "collapsed": true
   },
   "outputs": [],
   "source": [
    "np.random.seed(1)"
   ]
  },
  {
   "cell_type": "markdown",
   "metadata": {},
   "source": [
    "**GaussMixture dataset with k=20, d=15, n=499 and r=1.**"
   ]
  },
  {
   "cell_type": "code",
   "execution_count": 4,
   "metadata": {
    "collapsed": false
   },
   "outputs": [
    {
     "name": "stdout",
     "output_type": "stream",
     "text": [
      "CPU times: user 232 ms, sys: 16 ms, total: 248 ms\n",
      "Wall time: 52.8 ms\n"
     ]
    }
   ],
   "source": [
    "%%time\n",
    "centers1,gmdata1,gmlabel1=gaussmix(20,15,499,1)"
   ]
  },
  {
   "cell_type": "markdown",
   "metadata": {},
   "source": [
    "**GaussMixture dataset with k=20, d=15, n=499 and r=10.**"
   ]
  },
  {
   "cell_type": "code",
   "execution_count": 5,
   "metadata": {
    "collapsed": false
   },
   "outputs": [
    {
     "name": "stdout",
     "output_type": "stream",
     "text": [
      "CPU times: user 112 ms, sys: 12 ms, total: 124 ms\n",
      "Wall time: 24.9 ms\n"
     ]
    }
   ],
   "source": [
    "%%time\n",
    "centers10,gmdata10,gmlabel10=gaussmix(20,15,499,10)"
   ]
  },
  {
   "cell_type": "markdown",
   "metadata": {},
   "source": [
    "**GaussMixture dataset with k=20, d=15, n=499 and r=100.**"
   ]
  },
  {
   "cell_type": "code",
   "execution_count": 6,
   "metadata": {
    "collapsed": false
   },
   "outputs": [
    {
     "name": "stdout",
     "output_type": "stream",
     "text": [
      "CPU times: user 220 ms, sys: 12 ms, total: 232 ms\n",
      "Wall time: 34.2 ms\n"
     ]
    }
   ],
   "source": [
    "%%time\n",
    "centers100,gmdata100,gmlabel100=gaussmix(20,15,499,100)"
   ]
  },
  {
   "cell_type": "markdown",
   "metadata": {},
   "source": [
    "### Real world dataset:"
   ]
  },
  {
   "cell_type": "markdown",
   "metadata": {},
   "source": [
    "**The real world dataset we use is the spambase dataset. It has 4601 points and the dimension of each point is 58.**"
   ]
  },
  {
   "cell_type": "code",
   "execution_count": 7,
   "metadata": {
    "collapsed": false
   },
   "outputs": [
    {
     "data": {
      "text/plain": [
       "(4601, 58)"
      ]
     },
     "execution_count": 7,
     "metadata": {},
     "output_type": "execute_result"
    }
   ],
   "source": [
    "#spambase\n",
    "spam=pd.read_csv('spambase.data', header=None)\n",
    "spam=np.array(spam)\n",
    "spam.shape"
   ]
  },
  {
   "cell_type": "markdown",
   "metadata": {},
   "source": [
    "# Part II \n",
    "# Implementation of Algorithms:"
   ]
  },
  {
   "cell_type": "markdown",
   "metadata": {},
   "source": [
    "### 1. Implement the Lloyd Iteration Algorithm:"
   ]
  },
  {
   "cell_type": "markdown",
   "metadata": {},
   "source": [
    "**Lloyd Iteration Algorithm:**\n",
    "\n",
    "**1. Start with a set of randomly chosen initial centers**\n",
    "\n",
    "**2. Assign each input point to its nearest center**\n",
    "\n",
    "**3. Recoumpute the centers given the point assignment**\n",
    "\n",
    "**4. Repeat steps 2 and 3 until the solution does not change**"
   ]
  },
  {
   "cell_type": "code",
   "execution_count": 8,
   "metadata": {
    "collapsed": true
   },
   "outputs": [],
   "source": [
    "#given all the points and the current centroids, then cluster the points and label them\n",
    "def relabel(data,centroid):\n",
    "    n=len(data)\n",
    "    k=len(centroid)\n",
    "    dist=np.zeros((n,k))\n",
    "    for i in range(n):\n",
    "        for j in range(k):\n",
    "            dist[i,j]=np.sum((data[i]-centroid[j])**2)\n",
    "    return np.argmin(dist,axis=1)+1"
   ]
  },
  {
   "cell_type": "code",
   "execution_count": 9,
   "metadata": {
    "collapsed": false
   },
   "outputs": [],
   "source": [
    "#given all the points and their labels, then get the new centroids\n",
    "def recentroid(data,label):\n",
    "    k=len(np.unique(label))\n",
    "    p=data.shape[1]\n",
    "    centroid=np.zeros((k,p))\n",
    "    for i in range(k):\n",
    "        centroid[i]=np.mean(data[label==i+1],axis=0)\n",
    "    return centroid"
   ]
  },
  {
   "cell_type": "code",
   "execution_count": 10,
   "metadata": {
    "collapsed": true
   },
   "outputs": [],
   "source": [
    "#given all the points and initial centroid, then do Lloyd iterations until convergence or max iterations\n",
    "#then return the centroids, labels and iteration times\n",
    "def Lloyd(data,centroid,imax=1000):\n",
    "    i=1\n",
    "    k=len(centroid)\n",
    "    n=len(data)\n",
    "    centroid1=centroid\n",
    "    label=relabel(data,centroid1)\n",
    "    centroid2=recentroid(data,label)\n",
    "    while ((np.array_equal(centroid1,centroid2)==False) and i<imax):\n",
    "        i=i+1\n",
    "        label=relabel(data,centroid2)\n",
    "        centroid1=centroid2.copy()\n",
    "        centroid2=recentroid(data,label)\n",
    "    return centroid2, label,i"
   ]
  },
  {
   "cell_type": "markdown",
   "metadata": {},
   "source": [
    "### 2. Implement K-means Algorithm with Random Initialization:"
   ]
  },
  {
   "cell_type": "markdown",
   "metadata": {},
   "source": [
    "**Randomly Initialized Algorithm:**\n",
    "\n",
    "**This algorithm will select k points as the initial set of centers randomly from the points in the data.**"
   ]
  },
  {
   "cell_type": "code",
   "execution_count": 11,
   "metadata": {
    "collapsed": true
   },
   "outputs": [],
   "source": [
    "#select k centroids randomly\n",
    "def kmeans(data,k):\n",
    "    n=len(data)\n",
    "    select=np.random.choice(n,k,replace=False)\n",
    "    return data[select]"
   ]
  },
  {
   "cell_type": "markdown",
   "metadata": {},
   "source": [
    "### 3. Implement the Algorithm with K-means++ Initialization:"
   ]
  },
  {
   "cell_type": "markdown",
   "metadata": {},
   "source": [
    "**The random  initialization algorithm selects the points with equal probability, so the initial set of centers are selected completely randomly.**\n",
    "\n",
    "**However, the k-means++ initialization algorithm selects points with different probability. This algorithm selects exactly one point into the initial set of centers each iteration. The probability of $x \\in X$ being selected is $\\frac{d^{2}(x,C)}{\\phi_{X}(C)}$, where $C$ is the current set of centers.**\n",
    "\n",
    "**Therefore, the probability that $x$ is selected is proportional to its square distance to the current set of centers. The points have been in the current set of centers will not be selected because its square distance to the current set of centers is 0.**"
   ]
  },
  {
   "cell_type": "markdown",
   "metadata": {},
   "source": [
    "## K-means++ Initialization Algorithm Steps:\n",
    "\n",
    "**1: Sample a point uniformly at random from X and let it be $C$**\n",
    "\n",
    "**2: while $|C|<k$ do**\n",
    "\n",
    "**3: Sample $x \\in C$ with probability $\\frac{d^{2}(x,C)}{\\phi_{X}(C)}$**\n",
    "\n",
    "**4: Add $x$ into $C$**\n",
    "\n",
    "**5: end while**\n",
    "\n",
    "**The $C$ we get is the initial set of centers produced by kmeans++ initialization algorithm.**"
   ]
  },
  {
   "cell_type": "code",
   "execution_count": 12,
   "metadata": {
    "collapsed": true
   },
   "outputs": [],
   "source": [
    "#calculate the distance square between the point to given centroids\n",
    "def distance(x,centroid):\n",
    "    return min(np.sum((x-centroid)**2,axis=1))"
   ]
  },
  {
   "cell_type": "code",
   "execution_count": 13,
   "metadata": {
    "collapsed": true
   },
   "outputs": [],
   "source": [
    "#calculate the cost of the given points with respect to given centroids\n",
    "def cost(data, centroid):\n",
    "    cos=0\n",
    "    for i in range(len(data)):\n",
    "        cos=cos+distance(data[i],centroid)\n",
    "    return cos"
   ]
  },
  {
   "cell_type": "code",
   "execution_count": 14,
   "metadata": {
    "collapsed": false
   },
   "outputs": [],
   "source": [
    "#calulate the probablity that each point is selected into the initial centroids for both kmeans++\n",
    "#and kmeans||\n",
    "def distribution(data,centroid,l=1):\n",
    "    n=len(data)\n",
    "    distri=np.zeros(n)\n",
    "    tcost=cost(data,centroid)\n",
    "    for i in range(n):\n",
    "        p=l*distance(data[i],centroid)/tcost\n",
    "        if p<=1:\n",
    "            distri[i]=p\n",
    "        else:\n",
    "            distri[i]=1\n",
    "    return distri"
   ]
  },
  {
   "cell_type": "code",
   "execution_count": 15,
   "metadata": {
    "collapsed": false
   },
   "outputs": [],
   "source": [
    "#kmeans++ initialization algorithm using for loop\n",
    "def kmeanspp(data,k):\n",
    "    n=len(data)\n",
    "    samples=np.array(list(range(n)))\n",
    "    select=np.random.choice(samples,1)\n",
    "    centroid=data[select]\n",
    "    while len(centroid)<k:\n",
    "        select=np.random.choice(samples,1,p=distribution(data,centroid))\n",
    "        centroid=np.r_[centroid, data[select]]\n",
    "    return centroid"
   ]
  },
  {
   "cell_type": "markdown",
   "metadata": {},
   "source": [
    "### Implement the K-means|| Algorithm:"
   ]
  },
  {
   "cell_type": "markdown",
   "metadata": {},
   "source": [
    "**k-means|| algorithm steps:**\n",
    "\n",
    "**The k-means|| algorithm is a parallel version of the k-means++ initialization algorithm. As discussed above, when the dataset is massive and k is large, k-means++ will not be as proper as for normal size dataset. It selects only one point each iteration and for each iteration, all the data will be passed. The running time of k-means++ for massive dataset will be very long.**\n",
    "\n",
    "**For the k-means|| algorithm, there is a controling parameter l. For k-means++, the sum of probabilities of each point to be selected is 1 and for each iteration, exactly one point will be selected. However, for kmeans++, the probability of each point to be selected is $l\\frac{d^{2}(x,C)}{\\phi_{X}(C)}$ and that whether a point will be selected is independent on other points. Therefore, theoretically, for each iteration, it may select all the points that not in the current set of centers or select no point. The expected value of number of selected points in each iteration is l.**\n",
    "\n",
    "**To be convenient, I use a paramater r to control the iteration times.**\n",
    "\n",
    "**After r iterations, more than k points will be selected and we call the set of these points C.**\n",
    "\n",
    "**For each point in C, let its weight as the number of points closer to it in X, then C is a weighted set of centers.**\n",
    "\n",
    "**Recluster C into k clusters and the set of the k centers of these k clusters will be the initial set of centers produced by kmeas|| algorithm.**\n",
    "\n",
    "\n",
    "## K-means|| Initialization Algorithm Steps:\n",
    "\n",
    "**1: Sample a point uniformly at random from X and let it be $C$**\n",
    "\n",
    "**2: For r times do**\n",
    "\n",
    "**3: Sample each point $x \\in X$ independently with probability $l\\frac{d^{2}(x,C)}{\\phi_{X}(C)}$**\n",
    "\n",
    "**4: Add the sampled points into $C$**\n",
    "\n",
    "**5: end for**\n",
    "\n",
    "**6: For $x \\in C$, set w_x to be the number of points in X closer to x than any other point in $C$**\n",
    "\n",
    "**7: Recluster the weighted points in $C$ into k clusters**\n",
    "\n",
    "**For step 7, the reclustering method we choose in this project is weighted kmeans++ initialization algorithm.**\n",
    "\n",
    "**The reclustered set of centers is the initial set of centers produced by kmeans|| initialization algorithm.**"
   ]
  },
  {
   "cell_type": "code",
   "execution_count": 16,
   "metadata": {
    "collapsed": true
   },
   "outputs": [],
   "source": [
    "#calculate the distance square between the weighted point to given centroids\n",
    "def weighteddistance(x,centroid,weight):\n",
    "    return min(weight*np.sum((x-centroid)**2,axis=1))"
   ]
  },
  {
   "cell_type": "code",
   "execution_count": 17,
   "metadata": {
    "collapsed": true
   },
   "outputs": [],
   "source": [
    "#calculate the cost of the given weighted points with respect to given centroids \n",
    "def weightedcost(data,centroid,weight):\n",
    "    cos=0\n",
    "    for i in range(len(data)):\n",
    "        cos=cos+weighteddistance(data[i],centroid,weight[i])\n",
    "    return cos"
   ]
  },
  {
   "cell_type": "code",
   "execution_count": 18,
   "metadata": {
    "collapsed": true
   },
   "outputs": [],
   "source": [
    "#calulate the probablity that each weighted point is selected into the initial centroids for kmeans++\n",
    "def weighteddistribution(data,centroid,weight):\n",
    "    n=len(data)\n",
    "    distri=np.zeros(n)\n",
    "    wcost=weightedcost(data,centroid,weight)\n",
    "    for i in range(n):\n",
    "        distri[i]=weighteddistance(data[i],centroid,weight[i])/wcost\n",
    "    return distri"
   ]
  },
  {
   "cell_type": "code",
   "execution_count": 19,
   "metadata": {
    "collapsed": true
   },
   "outputs": [],
   "source": [
    "#kmeans++ initialization algorithm for weighted points\n",
    "def weightedkmeanspp(data,k,weight):\n",
    "    n=len(data)\n",
    "    samples=np.array(list(range(n)))\n",
    "    select=np.random.choice(samples,1)\n",
    "    centroid=data[select]\n",
    "    while len(centroid)<k:\n",
    "        select=np.random.choice(samples,1,p=weighteddistribution(data,centroid,weight))\n",
    "        centroid=np.r_[centroid,data[select]]\n",
    "    return centroid        "
   ]
  },
  {
   "cell_type": "code",
   "execution_count": 20,
   "metadata": {
    "collapsed": true
   },
   "outputs": [],
   "source": [
    "#recluster the weighted points in the given centroids\n",
    "def recluster(data,k,centroid):\n",
    "    c=len(centroid)\n",
    "    weight=np.zeros(c)\n",
    "    label=relabel(data,centroid)\n",
    "    for i in range(c):\n",
    "        weight[i]=np.sum(label==(i+1))\n",
    "    return weightedkmeanspp(centroid,k,weight)    "
   ]
  },
  {
   "cell_type": "code",
   "execution_count": 21,
   "metadata": {
    "collapsed": false
   },
   "outputs": [],
   "source": [
    "#kmeans|| initialization algorithm\n",
    "def kmeanspar(data,k,l,r):\n",
    "    n=len(data)\n",
    "    samples=np.array(list(range(n)))\n",
    "    select=np.random.choice(samples,1)\n",
    "    centroid=data[select]\n",
    "    for i in range(r):\n",
    "        select=samples[np.random.binomial(1,p=distribution(data,centroid,l))==1]\n",
    "        centroid=np.r_[centroid, data[select]]\n",
    "        if len(centroid)==n:\n",
    "            return recluster(data,k,centroid)\n",
    "    return recluster(data,k,centroid)"
   ]
  },
  {
   "cell_type": "markdown",
   "metadata": {},
   "source": [
    "# Part III\n",
    "# Testing:"
   ]
  },
  {
   "cell_type": "markdown",
   "metadata": {},
   "source": [
    "**In this part, we test the functions in the algorithms above using the three GaussMixture datasets and the spambase data set.**"
   ]
  },
  {
   "cell_type": "markdown",
   "metadata": {},
   "source": [
    "#### 1. test relabel function:"
   ]
  },
  {
   "cell_type": "code",
   "execution_count": 22,
   "metadata": {
    "collapsed": false
   },
   "outputs": [
    {
     "name": "stdout",
     "output_type": "stream",
     "text": [
      "CPU times: user 1.22 s, sys: 8 ms, total: 1.23 s\n",
      "Wall time: 1.25 s\n"
     ]
    },
    {
     "data": {
      "text/plain": [
       "array([ 1,  2,  3, ..., 20, 20, 20])"
      ]
     },
     "execution_count": 22,
     "metadata": {},
     "output_type": "execute_result"
    }
   ],
   "source": [
    "%%time\n",
    "relabel(gmdata1,centers1)"
   ]
  },
  {
   "cell_type": "code",
   "execution_count": 23,
   "metadata": {
    "collapsed": false
   },
   "outputs": [
    {
     "name": "stdout",
     "output_type": "stream",
     "text": [
      "CPU times: user 1.22 s, sys: 4 ms, total: 1.23 s\n",
      "Wall time: 1.23 s\n"
     ]
    },
    {
     "data": {
      "text/plain": [
       "array([ 1,  2,  3, ..., 20, 20, 20])"
      ]
     },
     "execution_count": 23,
     "metadata": {},
     "output_type": "execute_result"
    }
   ],
   "source": [
    "%%time\n",
    "relabel(gmdata10,centers10)"
   ]
  },
  {
   "cell_type": "code",
   "execution_count": 24,
   "metadata": {
    "collapsed": false
   },
   "outputs": [
    {
     "name": "stdout",
     "output_type": "stream",
     "text": [
      "CPU times: user 1.23 s, sys: 0 ns, total: 1.23 s\n",
      "Wall time: 1.23 s\n"
     ]
    },
    {
     "data": {
      "text/plain": [
       "array([ 1,  2,  3, ..., 20, 20, 20])"
      ]
     },
     "execution_count": 24,
     "metadata": {},
     "output_type": "execute_result"
    }
   ],
   "source": [
    "%%time\n",
    "relabel(gmdata100,centers100)"
   ]
  },
  {
   "cell_type": "markdown",
   "metadata": {},
   "source": [
    "#### 2. test recentroid function:"
   ]
  },
  {
   "cell_type": "code",
   "execution_count": 25,
   "metadata": {
    "collapsed": false
   },
   "outputs": [
    {
     "name": "stdout",
     "output_type": "stream",
     "text": [
      "CPU times: user 4 ms, sys: 0 ns, total: 4 ms\n",
      "Wall time: 2.06 ms\n"
     ]
    }
   ],
   "source": [
    "%%time\n",
    "c1=recentroid(gmdata1, gmlabel1)"
   ]
  },
  {
   "cell_type": "code",
   "execution_count": 26,
   "metadata": {
    "collapsed": false
   },
   "outputs": [
    {
     "name": "stdout",
     "output_type": "stream",
     "text": [
      "CPU times: user 4 ms, sys: 0 ns, total: 4 ms\n",
      "Wall time: 1.96 ms\n"
     ]
    }
   ],
   "source": [
    "%%time\n",
    "c5=recentroid(gmdata10, gmlabel10)"
   ]
  },
  {
   "cell_type": "code",
   "execution_count": 27,
   "metadata": {
    "collapsed": false
   },
   "outputs": [
    {
     "name": "stdout",
     "output_type": "stream",
     "text": [
      "CPU times: user 0 ns, sys: 0 ns, total: 0 ns\n",
      "Wall time: 1.98 ms\n"
     ]
    }
   ],
   "source": [
    "%%time\n",
    "c10=recentroid(gmdata100, gmlabel100)"
   ]
  },
  {
   "cell_type": "markdown",
   "metadata": {},
   "source": [
    "#### 3. test Lloyd iteration function:"
   ]
  },
  {
   "cell_type": "code",
   "execution_count": 28,
   "metadata": {
    "collapsed": false
   },
   "outputs": [
    {
     "name": "stdout",
     "output_type": "stream",
     "text": [
      "CPU times: user 8.58 s, sys: 8 ms, total: 8.58 s\n",
      "Wall time: 8.67 s\n"
     ]
    }
   ],
   "source": [
    "%%time\n",
    "L1=Lloyd(gmdata1,centers1)"
   ]
  },
  {
   "cell_type": "code",
   "execution_count": 29,
   "metadata": {
    "collapsed": false
   },
   "outputs": [
    {
     "name": "stdout",
     "output_type": "stream",
     "text": [
      "CPU times: user 2.7 s, sys: 0 ns, total: 2.7 s\n",
      "Wall time: 2.71 s\n"
     ]
    }
   ],
   "source": [
    "%%time\n",
    "L5=Lloyd(gmdata10,centers10)"
   ]
  },
  {
   "cell_type": "code",
   "execution_count": 30,
   "metadata": {
    "collapsed": false
   },
   "outputs": [
    {
     "name": "stdout",
     "output_type": "stream",
     "text": [
      "CPU times: user 2.72 s, sys: 0 ns, total: 2.72 s\n",
      "Wall time: 2.73 s\n"
     ]
    }
   ],
   "source": [
    "%%time\n",
    "L10=Lloyd(gmdata100,centers100)"
   ]
  },
  {
   "cell_type": "markdown",
   "metadata": {},
   "source": [
    "#### 4. test the random selecting initialization algorithm:"
   ]
  },
  {
   "cell_type": "code",
   "execution_count": 31,
   "metadata": {
    "collapsed": false
   },
   "outputs": [
    {
     "name": "stdout",
     "output_type": "stream",
     "text": [
      "CPU times: user 0 ns, sys: 0 ns, total: 0 ns\n",
      "Wall time: 416 µs\n"
     ]
    }
   ],
   "source": [
    "%%time\n",
    "rs1=kmeans(gmdata1,20)"
   ]
  },
  {
   "cell_type": "code",
   "execution_count": 32,
   "metadata": {
    "collapsed": false
   },
   "outputs": [
    {
     "name": "stdout",
     "output_type": "stream",
     "text": [
      "CPU times: user 0 ns, sys: 0 ns, total: 0 ns\n",
      "Wall time: 374 µs\n"
     ]
    }
   ],
   "source": [
    "%%time\n",
    "rs5=kmeans(gmdata10,20)"
   ]
  },
  {
   "cell_type": "code",
   "execution_count": 33,
   "metadata": {
    "collapsed": false
   },
   "outputs": [
    {
     "name": "stdout",
     "output_type": "stream",
     "text": [
      "CPU times: user 0 ns, sys: 0 ns, total: 0 ns\n",
      "Wall time: 319 µs\n"
     ]
    }
   ],
   "source": [
    "%%time\n",
    "rs10=kmeans(gmdata100,20)"
   ]
  },
  {
   "cell_type": "code",
   "execution_count": 34,
   "metadata": {
    "collapsed": false
   },
   "outputs": [
    {
     "name": "stdout",
     "output_type": "stream",
     "text": [
      "CPU times: user 0 ns, sys: 0 ns, total: 0 ns\n",
      "Wall time: 274 µs\n"
     ]
    }
   ],
   "source": [
    "%%time\n",
    "rsp=kmeans(spam,20)"
   ]
  },
  {
   "cell_type": "markdown",
   "metadata": {},
   "source": [
    "#### 5. test the cost function:"
   ]
  },
  {
   "cell_type": "code",
   "execution_count": 35,
   "metadata": {
    "collapsed": false
   },
   "outputs": [
    {
     "name": "stdout",
     "output_type": "stream",
     "text": [
      "CPU times: user 136 ms, sys: 0 ns, total: 136 ms\n",
      "Wall time: 133 ms\n"
     ]
    },
    {
     "data": {
      "text/plain": [
       "144818.64575706958"
      ]
     },
     "execution_count": 35,
     "metadata": {},
     "output_type": "execute_result"
    }
   ],
   "source": [
    "%%time\n",
    "cost(gmdata1,centers1)"
   ]
  },
  {
   "cell_type": "code",
   "execution_count": 36,
   "metadata": {
    "collapsed": false
   },
   "outputs": [
    {
     "name": "stdout",
     "output_type": "stream",
     "text": [
      "CPU times: user 136 ms, sys: 0 ns, total: 136 ms\n",
      "Wall time: 133 ms\n"
     ]
    },
    {
     "data": {
      "text/plain": [
       "150030.54718866557"
      ]
     },
     "execution_count": 36,
     "metadata": {},
     "output_type": "execute_result"
    }
   ],
   "source": [
    "%%time\n",
    "cost(gmdata10,centers10)"
   ]
  },
  {
   "cell_type": "code",
   "execution_count": 37,
   "metadata": {
    "collapsed": false
   },
   "outputs": [
    {
     "name": "stdout",
     "output_type": "stream",
     "text": [
      "CPU times: user 132 ms, sys: 0 ns, total: 132 ms\n",
      "Wall time: 130 ms\n"
     ]
    },
    {
     "data": {
      "text/plain": [
       "150005.6030282646"
      ]
     },
     "execution_count": 37,
     "metadata": {},
     "output_type": "execute_result"
    }
   ],
   "source": [
    "%%time\n",
    "cost(gmdata100,centers100)"
   ]
  },
  {
   "cell_type": "markdown",
   "metadata": {},
   "source": [
    "#### 6. test the distribution function:"
   ]
  },
  {
   "cell_type": "markdown",
   "metadata": {},
   "source": [
    "**The sum of the returned vector by this function should be 1 (or very very close to 1 in case of calculation accuray).**"
   ]
  },
  {
   "cell_type": "code",
   "execution_count": 38,
   "metadata": {
    "collapsed": false
   },
   "outputs": [
    {
     "name": "stdout",
     "output_type": "stream",
     "text": [
      "CPU times: user 276 ms, sys: 0 ns, total: 276 ms\n",
      "Wall time: 274 ms\n"
     ]
    },
    {
     "data": {
      "text/plain": [
       "1.0000000000000031"
      ]
     },
     "execution_count": 38,
     "metadata": {},
     "output_type": "execute_result"
    }
   ],
   "source": [
    "%%time\n",
    "np.sum(distribution(gmdata1,centers1))"
   ]
  },
  {
   "cell_type": "code",
   "execution_count": 39,
   "metadata": {
    "collapsed": false
   },
   "outputs": [
    {
     "name": "stdout",
     "output_type": "stream",
     "text": [
      "CPU times: user 276 ms, sys: 0 ns, total: 276 ms\n",
      "Wall time: 282 ms\n"
     ]
    },
    {
     "data": {
      "text/plain": [
       "0.99999999999999989"
      ]
     },
     "execution_count": 39,
     "metadata": {},
     "output_type": "execute_result"
    }
   ],
   "source": [
    "%%time\n",
    "np.sum(distribution(gmdata10,centers10))"
   ]
  },
  {
   "cell_type": "code",
   "execution_count": 40,
   "metadata": {
    "collapsed": false
   },
   "outputs": [
    {
     "name": "stdout",
     "output_type": "stream",
     "text": [
      "CPU times: user 276 ms, sys: 0 ns, total: 276 ms\n",
      "Wall time: 279 ms\n"
     ]
    },
    {
     "data": {
      "text/plain": [
       "0.99999999999999956"
      ]
     },
     "execution_count": 40,
     "metadata": {},
     "output_type": "execute_result"
    }
   ],
   "source": [
    "%%time\n",
    "np.sum(distribution(gmdata100,centers100))"
   ]
  },
  {
   "cell_type": "markdown",
   "metadata": {},
   "source": [
    "#### 7. test the kmeans++ initialization algorithm function:"
   ]
  },
  {
   "cell_type": "code",
   "execution_count": 41,
   "metadata": {
    "collapsed": false
   },
   "outputs": [
    {
     "name": "stdout",
     "output_type": "stream",
     "text": [
      "CPU times: user 4.78 s, sys: 0 ns, total: 4.78 s\n",
      "Wall time: 4.81 s\n"
     ]
    }
   ],
   "source": [
    "%%time\n",
    "kpp1=kmeanspp(gmdata1,20)"
   ]
  },
  {
   "cell_type": "code",
   "execution_count": 42,
   "metadata": {
    "collapsed": false
   },
   "outputs": [
    {
     "name": "stdout",
     "output_type": "stream",
     "text": [
      "CPU times: user 4.69 s, sys: 4 ms, total: 4.69 s\n",
      "Wall time: 4.72 s\n"
     ]
    }
   ],
   "source": [
    "%%time\n",
    "kpp5=kmeanspp(gmdata10,20)"
   ]
  },
  {
   "cell_type": "code",
   "execution_count": 43,
   "metadata": {
    "collapsed": false
   },
   "outputs": [
    {
     "name": "stdout",
     "output_type": "stream",
     "text": [
      "CPU times: user 5.17 s, sys: 8 ms, total: 5.18 s\n",
      "Wall time: 5.2 s\n"
     ]
    }
   ],
   "source": [
    "%%time\n",
    "kpp10=kmeanspp(gmdata100,20)"
   ]
  },
  {
   "cell_type": "code",
   "execution_count": 44,
   "metadata": {
    "collapsed": false
   },
   "outputs": [
    {
     "name": "stdout",
     "output_type": "stream",
     "text": [
      "CPU times: user 2.49 s, sys: 0 ns, total: 2.49 s\n",
      "Wall time: 2.49 s\n"
     ]
    }
   ],
   "source": [
    "%%time\n",
    "kppsp=kmeanspp(spam,20)"
   ]
  },
  {
   "cell_type": "markdown",
   "metadata": {},
   "source": [
    "#### 8. test the weightedcost function:"
   ]
  },
  {
   "cell_type": "markdown",
   "metadata": {},
   "source": [
    "**The results of weightedcost function here are same as cost function above because the weights are same for every point**"
   ]
  },
  {
   "cell_type": "code",
   "execution_count": 45,
   "metadata": {
    "collapsed": false
   },
   "outputs": [
    {
     "name": "stdout",
     "output_type": "stream",
     "text": [
      "CPU times: user 164 ms, sys: 0 ns, total: 164 ms\n",
      "Wall time: 164 ms\n"
     ]
    },
    {
     "data": {
      "text/plain": [
       "144818.64575706958"
      ]
     },
     "execution_count": 45,
     "metadata": {},
     "output_type": "execute_result"
    }
   ],
   "source": [
    "%%time\n",
    "weightedcost(gmdata1,centers1,np.array([1]*10000))"
   ]
  },
  {
   "cell_type": "code",
   "execution_count": 46,
   "metadata": {
    "collapsed": false
   },
   "outputs": [
    {
     "name": "stdout",
     "output_type": "stream",
     "text": [
      "CPU times: user 164 ms, sys: 0 ns, total: 164 ms\n",
      "Wall time: 165 ms\n"
     ]
    },
    {
     "data": {
      "text/plain": [
       "150030.54718866557"
      ]
     },
     "execution_count": 46,
     "metadata": {},
     "output_type": "execute_result"
    }
   ],
   "source": [
    "%%time\n",
    "weightedcost(gmdata10,centers10,np.array([1]*10000))"
   ]
  },
  {
   "cell_type": "code",
   "execution_count": 47,
   "metadata": {
    "collapsed": false
   },
   "outputs": [
    {
     "name": "stdout",
     "output_type": "stream",
     "text": [
      "CPU times: user 164 ms, sys: 0 ns, total: 164 ms\n",
      "Wall time: 164 ms\n"
     ]
    },
    {
     "data": {
      "text/plain": [
       "150005.6030282646"
      ]
     },
     "execution_count": 47,
     "metadata": {},
     "output_type": "execute_result"
    }
   ],
   "source": [
    "%%time\n",
    "weightedcost(gmdata100,centers100,np.array([1]*10000))"
   ]
  },
  {
   "cell_type": "markdown",
   "metadata": {},
   "source": [
    "#### 9. test the weighteddistribution function:"
   ]
  },
  {
   "cell_type": "markdown",
   "metadata": {},
   "source": [
    "**The sum of the returned vector by this function should be 1 (or very very close to 1 in case of calculation accuray).**"
   ]
  },
  {
   "cell_type": "code",
   "execution_count": 48,
   "metadata": {
    "collapsed": false
   },
   "outputs": [
    {
     "name": "stdout",
     "output_type": "stream",
     "text": [
      "CPU times: user 332 ms, sys: 0 ns, total: 332 ms\n",
      "Wall time: 331 ms\n"
     ]
    },
    {
     "data": {
      "text/plain": [
       "1.0000000000000031"
      ]
     },
     "execution_count": 48,
     "metadata": {},
     "output_type": "execute_result"
    }
   ],
   "source": [
    "%%time\n",
    "np.sum(weighteddistribution(gmdata1,centers1,np.array([1]*10000)))"
   ]
  },
  {
   "cell_type": "code",
   "execution_count": 49,
   "metadata": {
    "collapsed": false
   },
   "outputs": [
    {
     "name": "stdout",
     "output_type": "stream",
     "text": [
      "CPU times: user 340 ms, sys: 0 ns, total: 340 ms\n",
      "Wall time: 337 ms\n"
     ]
    },
    {
     "data": {
      "text/plain": [
       "0.99999999999999989"
      ]
     },
     "execution_count": 49,
     "metadata": {},
     "output_type": "execute_result"
    }
   ],
   "source": [
    "%%time\n",
    "np.sum(weighteddistribution(gmdata10,centers10,np.array([1]*10000)))"
   ]
  },
  {
   "cell_type": "code",
   "execution_count": 50,
   "metadata": {
    "collapsed": false
   },
   "outputs": [
    {
     "name": "stdout",
     "output_type": "stream",
     "text": [
      "CPU times: user 396 ms, sys: 4 ms, total: 400 ms\n",
      "Wall time: 398 ms\n"
     ]
    },
    {
     "data": {
      "text/plain": [
       "0.99999999999999956"
      ]
     },
     "execution_count": 50,
     "metadata": {},
     "output_type": "execute_result"
    }
   ],
   "source": [
    "%%time\n",
    "np.sum(weighteddistribution(gmdata100,centers100,np.array([1]*10000)))"
   ]
  },
  {
   "cell_type": "markdown",
   "metadata": {},
   "source": [
    "#### 10. test the kmeans++ initialization algorithm function for weighted points:"
   ]
  },
  {
   "cell_type": "code",
   "execution_count": 51,
   "metadata": {
    "collapsed": false
   },
   "outputs": [
    {
     "name": "stdout",
     "output_type": "stream",
     "text": [
      "CPU times: user 6.04 s, sys: 8 ms, total: 6.05 s\n",
      "Wall time: 6.05 s\n"
     ]
    }
   ],
   "source": [
    "%%time\n",
    "wkpp1=weightedkmeanspp(gmdata1,20,np.array([1]*10000))"
   ]
  },
  {
   "cell_type": "code",
   "execution_count": 52,
   "metadata": {
    "collapsed": false
   },
   "outputs": [
    {
     "name": "stdout",
     "output_type": "stream",
     "text": [
      "CPU times: user 5.62 s, sys: 4 ms, total: 5.62 s\n",
      "Wall time: 5.62 s\n"
     ]
    }
   ],
   "source": [
    "%%time\n",
    "wkpp5=weightedkmeanspp(gmdata10,20,np.array([1]*10000))"
   ]
  },
  {
   "cell_type": "code",
   "execution_count": 53,
   "metadata": {
    "collapsed": false
   },
   "outputs": [
    {
     "name": "stdout",
     "output_type": "stream",
     "text": [
      "CPU times: user 5.69 s, sys: 0 ns, total: 5.69 s\n",
      "Wall time: 5.68 s\n"
     ]
    }
   ],
   "source": [
    "%%time\n",
    "wkpp10=weightedkmeanspp(gmdata100,20,np.array([1]*10000))"
   ]
  },
  {
   "cell_type": "code",
   "execution_count": 54,
   "metadata": {
    "collapsed": false
   },
   "outputs": [
    {
     "name": "stdout",
     "output_type": "stream",
     "text": [
      "CPU times: user 3.52 s, sys: 0 ns, total: 3.52 s\n",
      "Wall time: 3.52 s\n"
     ]
    }
   ],
   "source": [
    "%%time\n",
    "wkppsp=weightedkmeanspp(spam,20,np.array([1]*4601))"
   ]
  },
  {
   "cell_type": "markdown",
   "metadata": {},
   "source": [
    "#### 11. test the recluster function:"
   ]
  },
  {
   "cell_type": "code",
   "execution_count": 55,
   "metadata": {
    "collapsed": false
   },
   "outputs": [
    {
     "name": "stdout",
     "output_type": "stream",
     "text": [
      "CPU times: user 1.49 s, sys: 0 ns, total: 1.49 s\n",
      "Wall time: 1.49 s\n"
     ]
    }
   ],
   "source": [
    "%%time\n",
    "re1=recluster(gmdata1,5,centers1)"
   ]
  },
  {
   "cell_type": "code",
   "execution_count": 56,
   "metadata": {
    "collapsed": false
   },
   "outputs": [
    {
     "name": "stdout",
     "output_type": "stream",
     "text": [
      "CPU times: user 1.51 s, sys: 0 ns, total: 1.51 s\n",
      "Wall time: 1.51 s\n"
     ]
    }
   ],
   "source": [
    "%%time\n",
    "re5=recluster(gmdata10,5,centers10)"
   ]
  },
  {
   "cell_type": "code",
   "execution_count": 57,
   "metadata": {
    "collapsed": false
   },
   "outputs": [
    {
     "name": "stdout",
     "output_type": "stream",
     "text": [
      "CPU times: user 1.49 s, sys: 0 ns, total: 1.49 s\n",
      "Wall time: 1.48 s\n"
     ]
    }
   ],
   "source": [
    "%%time\n",
    "re10=recluster(gmdata100,5,centers100)"
   ]
  },
  {
   "cell_type": "markdown",
   "metadata": {},
   "source": [
    "#### 12.  test the kmeans|| initialization algorithm function:"
   ]
  },
  {
   "cell_type": "code",
   "execution_count": 58,
   "metadata": {
    "collapsed": false
   },
   "outputs": [
    {
     "name": "stdout",
     "output_type": "stream",
     "text": [
      "CPU times: user 3.59 s, sys: 0 ns, total: 3.59 s\n",
      "Wall time: 3.59 s\n"
     ]
    }
   ],
   "source": [
    "%%time\n",
    "sckpp1=kmeanspar(gmdata1,20,6,6)"
   ]
  },
  {
   "cell_type": "code",
   "execution_count": 59,
   "metadata": {
    "collapsed": false
   },
   "outputs": [
    {
     "name": "stdout",
     "output_type": "stream",
     "text": [
      "CPU times: user 4.2 s, sys: 8 ms, total: 4.21 s\n",
      "Wall time: 4.21 s\n"
     ]
    }
   ],
   "source": [
    "%%time\n",
    "sckpp5=kmeanspar(gmdata10,20,6,6)"
   ]
  },
  {
   "cell_type": "code",
   "execution_count": 60,
   "metadata": {
    "collapsed": false
   },
   "outputs": [
    {
     "name": "stdout",
     "output_type": "stream",
     "text": [
      "CPU times: user 4.04 s, sys: 4 ms, total: 4.05 s\n",
      "Wall time: 4.05 s\n"
     ]
    }
   ],
   "source": [
    "%%time\n",
    "sckpp10=kmeanspar(gmdata100,20,6,6)"
   ]
  },
  {
   "cell_type": "code",
   "execution_count": 61,
   "metadata": {
    "collapsed": false
   },
   "outputs": [
    {
     "name": "stdout",
     "output_type": "stream",
     "text": [
      "CPU times: user 2.34 s, sys: 4 ms, total: 2.34 s\n",
      "Wall time: 2.34 s\n"
     ]
    }
   ],
   "source": [
    "%%time\n",
    "sckppsp=kmeanspar(spam,20,6,6)"
   ]
  },
  {
   "cell_type": "markdown",
   "metadata": {},
   "source": [
    "**The functions are appliable for all the four datasets and there is no error or warning.**\n",
    "\n",
    "**Therefore, the codes are appropriate in this project.**"
   ]
  },
  {
   "cell_type": "markdown",
   "metadata": {},
   "source": [
    "# Part IV\n",
    "# Performance Optimization:"
   ]
  },
  {
   "cell_type": "markdown",
   "metadata": {},
   "source": [
    "## 1. Vectorization Using Broadcasting:"
   ]
  },
  {
   "cell_type": "markdown",
   "metadata": {},
   "source": [
    "**We use broadcasting to speed up all the functions in the above algorithm and carry out the updated functions with gmdata1. For each updated function, I carry out its corresponding original function above on gmdata1 and compare running times.**"
   ]
  },
  {
   "cell_type": "markdown",
   "metadata": {},
   "source": [
    "### 1.1 Implement the Lloyd Iteration Algorithm Using Broadcasting:"
   ]
  },
  {
   "cell_type": "code",
   "execution_count": 62,
   "metadata": {
    "collapsed": true
   },
   "outputs": [],
   "source": [
    "#using broadcasting instead of forloof\n",
    "def vrelabel(data,centroid):\n",
    "    dist=np.sum((data[:,None,:]-centroid)**2,axis=2)\n",
    "    return np.argmin(dist,axis=1)+1"
   ]
  },
  {
   "cell_type": "code",
   "execution_count": 63,
   "metadata": {
    "collapsed": false
   },
   "outputs": [
    {
     "name": "stdout",
     "output_type": "stream",
     "text": [
      "CPU times: user 16 ms, sys: 16 ms, total: 32 ms\n",
      "Wall time: 32.8 ms\n"
     ]
    },
    {
     "data": {
      "text/plain": [
       "array([ 1,  2,  3, ..., 20, 20, 20])"
      ]
     },
     "execution_count": 63,
     "metadata": {},
     "output_type": "execute_result"
    }
   ],
   "source": [
    "%%time\n",
    "vrelabel(gmdata1,centers1)"
   ]
  },
  {
   "cell_type": "code",
   "execution_count": 64,
   "metadata": {
    "collapsed": false
   },
   "outputs": [
    {
     "name": "stdout",
     "output_type": "stream",
     "text": [
      "CPU times: user 1.2 s, sys: 0 ns, total: 1.2 s\n",
      "Wall time: 1.2 s\n"
     ]
    },
    {
     "data": {
      "text/plain": [
       "array([ 1,  2,  3, ..., 20, 20, 20])"
      ]
     },
     "execution_count": 64,
     "metadata": {},
     "output_type": "execute_result"
    }
   ],
   "source": [
    "%%time\n",
    "relabel(gmdata1,centers1)"
   ]
  },
  {
   "cell_type": "code",
   "execution_count": 65,
   "metadata": {
    "collapsed": true
   },
   "outputs": [],
   "source": [
    "#using broadcasting vrelabel\n",
    "def vLloyd(data,centroid,imax=1000):\n",
    "    i=1\n",
    "    k=len(centroid)\n",
    "    n=len(data)\n",
    "    centroid1=centroid\n",
    "    label=vrelabel(data,centroid1)\n",
    "    centroid2=recentroid(data,label)\n",
    "    while ((np.array_equal(centroid1,centroid2)==False) and i<imax):\n",
    "        i=i+1\n",
    "        label=vrelabel(data,centroid2)\n",
    "        centroid1=centroid2.copy()\n",
    "        centroid2=recentroid(data,label)\n",
    "    return centroid2, label,i"
   ]
  },
  {
   "cell_type": "code",
   "execution_count": 66,
   "metadata": {
    "collapsed": false
   },
   "outputs": [
    {
     "name": "stdout",
     "output_type": "stream",
     "text": [
      "CPU times: user 96 ms, sys: 4.26 s, total: 4.36 s\n",
      "Wall time: 4.36 s\n"
     ]
    }
   ],
   "source": [
    "%%time\n",
    "vL1=vLloyd(gmdata1,centers1)"
   ]
  },
  {
   "cell_type": "code",
   "execution_count": 67,
   "metadata": {
    "collapsed": false
   },
   "outputs": [
    {
     "name": "stdout",
     "output_type": "stream",
     "text": [
      "CPU times: user 8.48 s, sys: 0 ns, total: 8.48 s\n",
      "Wall time: 8.48 s\n"
     ]
    }
   ],
   "source": [
    "%%time\n",
    "L1=Lloyd(gmdata1,centers1)"
   ]
  },
  {
   "cell_type": "markdown",
   "metadata": {},
   "source": [
    "### 1.2 Implement the K-means++ Initialization Algorithm Using Broadcasting:"
   ]
  },
  {
   "cell_type": "code",
   "execution_count": 68,
   "metadata": {
    "collapsed": true
   },
   "outputs": [],
   "source": [
    "#calculate the distance square between each point to given centroids\n",
    "def vdistance(data,centroid):\n",
    "    dist=np.sum((data[:,None,:]-centroid)**2,axis=2)\n",
    "    return dist.min(axis=1)"
   ]
  },
  {
   "cell_type": "code",
   "execution_count": 69,
   "metadata": {
    "collapsed": false
   },
   "outputs": [
    {
     "name": "stdout",
     "output_type": "stream",
     "text": [
      "CPU times: user 20 ms, sys: 16 ms, total: 36 ms\n",
      "Wall time: 32.3 ms\n"
     ]
    },
    {
     "data": {
      "text/plain": [
       "array([  0.        ,   0.        ,   0.        , ...,   8.79177241,\n",
       "        17.36878434,  20.98049325])"
      ]
     },
     "execution_count": 69,
     "metadata": {},
     "output_type": "execute_result"
    }
   ],
   "source": [
    "%%time\n",
    "vdistance(gmdata1,centers1)"
   ]
  },
  {
   "cell_type": "code",
   "execution_count": 70,
   "metadata": {
    "collapsed": true
   },
   "outputs": [],
   "source": [
    "#using broadcasting\n",
    "def vcost(data, centroid):\n",
    "    dist=np.sum((data[:,None,:]-centroid)**2,axis=2)\n",
    "    return np.sum(dist.min(axis=1))"
   ]
  },
  {
   "cell_type": "code",
   "execution_count": 71,
   "metadata": {
    "collapsed": false
   },
   "outputs": [
    {
     "name": "stdout",
     "output_type": "stream",
     "text": [
      "CPU times: user 8 ms, sys: 148 ms, total: 156 ms\n",
      "Wall time: 156 ms\n"
     ]
    },
    {
     "data": {
      "text/plain": [
       "144818.64575707004"
      ]
     },
     "execution_count": 71,
     "metadata": {},
     "output_type": "execute_result"
    }
   ],
   "source": [
    "%%time\n",
    "vcost(gmdata1,centers1)"
   ]
  },
  {
   "cell_type": "code",
   "execution_count": 72,
   "metadata": {
    "collapsed": false
   },
   "outputs": [
    {
     "name": "stdout",
     "output_type": "stream",
     "text": [
      "CPU times: user 132 ms, sys: 4 ms, total: 136 ms\n",
      "Wall time: 135 ms\n"
     ]
    },
    {
     "data": {
      "text/plain": [
       "144818.64575706958"
      ]
     },
     "execution_count": 72,
     "metadata": {},
     "output_type": "execute_result"
    }
   ],
   "source": [
    "%%time\n",
    "cost(gmdata1,centers1)"
   ]
  },
  {
   "cell_type": "code",
   "execution_count": 73,
   "metadata": {
    "collapsed": true
   },
   "outputs": [],
   "source": [
    "#using broadcasting\n",
    "def vdistribution(data,centroid,l=1):\n",
    "    distri=l*vdistance(data,centroid)/vcost(data,centroid)\n",
    "    distri[distri>1]=1\n",
    "    return distri"
   ]
  },
  {
   "cell_type": "code",
   "execution_count": 74,
   "metadata": {
    "collapsed": false
   },
   "outputs": [
    {
     "name": "stdout",
     "output_type": "stream",
     "text": [
      "CPU times: user 36 ms, sys: 1.01 s, total: 1.05 s\n",
      "Wall time: 1.05 s\n"
     ]
    },
    {
     "data": {
      "text/plain": [
       "0.99999999999999989"
      ]
     },
     "execution_count": 74,
     "metadata": {},
     "output_type": "execute_result"
    }
   ],
   "source": [
    "%%time\n",
    "np.sum(vdistribution(gmdata1,centers1))"
   ]
  },
  {
   "cell_type": "code",
   "execution_count": 75,
   "metadata": {
    "collapsed": false
   },
   "outputs": [
    {
     "name": "stdout",
     "output_type": "stream",
     "text": [
      "CPU times: user 296 ms, sys: 0 ns, total: 296 ms\n",
      "Wall time: 296 ms\n"
     ]
    },
    {
     "data": {
      "text/plain": [
       "1.0000000000000031"
      ]
     },
     "execution_count": 75,
     "metadata": {},
     "output_type": "execute_result"
    }
   ],
   "source": [
    "%%time\n",
    "np.sum(distribution(gmdata1,centers1))"
   ]
  },
  {
   "cell_type": "code",
   "execution_count": 76,
   "metadata": {
    "collapsed": true
   },
   "outputs": [],
   "source": [
    "##kmeans++ initialization algorithm using broadcasting\n",
    "def vkmeanspp(data,k):\n",
    "    n=len(data)\n",
    "    samples=np.array(list(range(n)))\n",
    "    select=np.random.choice(samples,1)\n",
    "    centroid=data[select]\n",
    "    while len(centroid)<k:\n",
    "        select=np.random.choice(samples,1,p=vdistribution(data,centroid))\n",
    "        centroid=np.r_[centroid, data[select]]\n",
    "    return centroid"
   ]
  },
  {
   "cell_type": "code",
   "execution_count": 77,
   "metadata": {
    "collapsed": false
   },
   "outputs": [
    {
     "name": "stdout",
     "output_type": "stream",
     "text": [
      "CPU times: user 344 ms, sys: 16 ms, total: 360 ms\n",
      "Wall time: 358 ms\n"
     ]
    }
   ],
   "source": [
    "%%time\n",
    "vkpp1=vkmeanspp(gmdata1,20)"
   ]
  },
  {
   "cell_type": "code",
   "execution_count": 78,
   "metadata": {
    "collapsed": false
   },
   "outputs": [
    {
     "name": "stdout",
     "output_type": "stream",
     "text": [
      "CPU times: user 5.45 s, sys: 0 ns, total: 5.45 s\n",
      "Wall time: 5.48 s\n"
     ]
    }
   ],
   "source": [
    "%%time\n",
    "kpp1=kmeanspp(gmdata1,20)"
   ]
  },
  {
   "cell_type": "markdown",
   "metadata": {},
   "source": [
    "### 1.3 Implement the K-means|| Initialization Algorithm Using Broadcasting:"
   ]
  },
  {
   "cell_type": "code",
   "execution_count": 79,
   "metadata": {
    "collapsed": true
   },
   "outputs": [],
   "source": [
    "#using broadcasting to calculate the distance square between each weighted point to given centroids\n",
    "def vweighteddistance(data,centroid,weight):\n",
    "    dist=np.sum((data[:,None,:]-centroid)**2,axis=2)\n",
    "    wdist=(dist.T*weight).T\n",
    "    return wdist.min(axis=1)"
   ]
  },
  {
   "cell_type": "code",
   "execution_count": 80,
   "metadata": {
    "collapsed": false
   },
   "outputs": [
    {
     "name": "stdout",
     "output_type": "stream",
     "text": [
      "CPU times: user 20 ms, sys: 0 ns, total: 20 ms\n",
      "Wall time: 21.1 ms\n"
     ]
    },
    {
     "data": {
      "text/plain": [
       "array([  0.        ,   0.        ,   0.        , ...,   8.79177241,\n",
       "        17.36878434,  20.98049325])"
      ]
     },
     "execution_count": 80,
     "metadata": {},
     "output_type": "execute_result"
    }
   ],
   "source": [
    "%%time\n",
    "vweighteddistance(gmdata1,centers1,np.array([1]*10000))"
   ]
  },
  {
   "cell_type": "code",
   "execution_count": 81,
   "metadata": {
    "collapsed": true
   },
   "outputs": [],
   "source": [
    "def vweightedcost(data,centroid,weight):\n",
    "    dist=np.sum((data[:,None,:]-centroid)**2,axis=2)\n",
    "    wdist=(dist.T*weight).T\n",
    "    return np.sum(wdist.min(axis=1))  "
   ]
  },
  {
   "cell_type": "code",
   "execution_count": 82,
   "metadata": {
    "collapsed": false
   },
   "outputs": [
    {
     "name": "stdout",
     "output_type": "stream",
     "text": [
      "CPU times: user 20 ms, sys: 12 ms, total: 32 ms\n",
      "Wall time: 33.9 ms\n"
     ]
    },
    {
     "data": {
      "text/plain": [
       "144818.64575707004"
      ]
     },
     "execution_count": 82,
     "metadata": {},
     "output_type": "execute_result"
    }
   ],
   "source": [
    "%%time\n",
    "vweightedcost(gmdata1,centers1,np.array([1]*10000))"
   ]
  },
  {
   "cell_type": "code",
   "execution_count": 83,
   "metadata": {
    "collapsed": false
   },
   "outputs": [
    {
     "name": "stdout",
     "output_type": "stream",
     "text": [
      "CPU times: user 200 ms, sys: 0 ns, total: 200 ms\n",
      "Wall time: 199 ms\n"
     ]
    },
    {
     "data": {
      "text/plain": [
       "144818.64575706958"
      ]
     },
     "execution_count": 83,
     "metadata": {},
     "output_type": "execute_result"
    }
   ],
   "source": [
    "%%time\n",
    "weightedcost(gmdata1,centers1,np.array([1]*10000))"
   ]
  },
  {
   "cell_type": "code",
   "execution_count": 84,
   "metadata": {
    "collapsed": true
   },
   "outputs": [],
   "source": [
    "def vweighteddistribution(data,centroid,weight):\n",
    "    distri=vweighteddistance(data,centroid,weight)/vweightedcost(data,centroid,weight)\n",
    "    return distri"
   ]
  },
  {
   "cell_type": "code",
   "execution_count": 85,
   "metadata": {
    "collapsed": false
   },
   "outputs": [
    {
     "name": "stdout",
     "output_type": "stream",
     "text": [
      "CPU times: user 36 ms, sys: 976 ms, total: 1.01 s\n",
      "Wall time: 1.01 s\n"
     ]
    },
    {
     "data": {
      "text/plain": [
       "0.99999999999999989"
      ]
     },
     "execution_count": 85,
     "metadata": {},
     "output_type": "execute_result"
    }
   ],
   "source": [
    "%%time\n",
    "np.sum(vweighteddistribution(gmdata1,centers1,np.array([1]*10000)))"
   ]
  },
  {
   "cell_type": "code",
   "execution_count": 86,
   "metadata": {
    "collapsed": false
   },
   "outputs": [
    {
     "name": "stdout",
     "output_type": "stream",
     "text": [
      "CPU times: user 360 ms, sys: 4 ms, total: 364 ms\n",
      "Wall time: 364 ms\n"
     ]
    },
    {
     "data": {
      "text/plain": [
       "1.0000000000000031"
      ]
     },
     "execution_count": 86,
     "metadata": {},
     "output_type": "execute_result"
    }
   ],
   "source": [
    "%%time\n",
    "np.sum(weighteddistribution(gmdata1,centers1,np.array([1]*10000)))"
   ]
  },
  {
   "cell_type": "code",
   "execution_count": 87,
   "metadata": {
    "collapsed": true
   },
   "outputs": [],
   "source": [
    "#kmeans++ initialization algorithm for weighted points using broadcasting \n",
    "def vweightedkmeanspp(data,k,weight):\n",
    "    n=len(data)\n",
    "    samples=np.array(list(range(n)))\n",
    "    select=np.random.choice(samples,1)\n",
    "    centroid=data[select]\n",
    "    while len(centroid)<k:\n",
    "        select=np.random.choice(samples,1,p=vweighteddistribution(data,centroid,weight))\n",
    "        centroid=np.r_[centroid,data[select]]\n",
    "    return centroid  "
   ]
  },
  {
   "cell_type": "code",
   "execution_count": 88,
   "metadata": {
    "collapsed": false
   },
   "outputs": [
    {
     "name": "stdout",
     "output_type": "stream",
     "text": [
      "CPU times: user 344 ms, sys: 256 ms, total: 600 ms\n",
      "Wall time: 598 ms\n"
     ]
    }
   ],
   "source": [
    "%%time\n",
    "vwkpp1=vweightedkmeanspp(gmdata1,20,np.array([1]*10000))"
   ]
  },
  {
   "cell_type": "code",
   "execution_count": 89,
   "metadata": {
    "collapsed": false
   },
   "outputs": [
    {
     "name": "stdout",
     "output_type": "stream",
     "text": [
      "CPU times: user 6.23 s, sys: 4 ms, total: 6.23 s\n",
      "Wall time: 6.28 s\n"
     ]
    }
   ],
   "source": [
    "%%time\n",
    "wkpp1=weightedkmeanspp(gmdata1,20,np.array([1]*10000))"
   ]
  },
  {
   "cell_type": "code",
   "execution_count": 90,
   "metadata": {
    "collapsed": true
   },
   "outputs": [],
   "source": [
    "#recluster the weighted points in the given centroids using broadcasting\n",
    "def vrecluster(data,k,centroid):\n",
    "    c=len(centroid)\n",
    "    weight=np.zeros(c)\n",
    "    label=vrelabel(data,centroid)\n",
    "    for i in range(c):\n",
    "        weight[i]=np.sum(label==i+1)\n",
    "    return vweightedkmeanspp(centroid,k,weight) "
   ]
  },
  {
   "cell_type": "code",
   "execution_count": 91,
   "metadata": {
    "collapsed": false
   },
   "outputs": [
    {
     "name": "stdout",
     "output_type": "stream",
     "text": [
      "CPU times: user 20 ms, sys: 4 ms, total: 24 ms\n",
      "Wall time: 26.3 ms\n"
     ]
    }
   ],
   "source": [
    "%%time\n",
    "vre1=vrecluster(gmdata1,10,centers1)"
   ]
  },
  {
   "cell_type": "code",
   "execution_count": 92,
   "metadata": {
    "collapsed": false
   },
   "outputs": [
    {
     "name": "stdout",
     "output_type": "stream",
     "text": [
      "CPU times: user 1.29 s, sys: 28 ms, total: 1.32 s\n",
      "Wall time: 1.36 s\n"
     ]
    }
   ],
   "source": [
    "%%time\n",
    "re1=recluster(gmdata1,10,centers1)"
   ]
  },
  {
   "cell_type": "code",
   "execution_count": 93,
   "metadata": {
    "collapsed": true
   },
   "outputs": [],
   "source": [
    "#kmeans|| initialization algorithm using broadcasting\n",
    "def vkmeanspar(data,k,l,r):\n",
    "    n=len(data)\n",
    "    samples=np.array(list(range(n)))\n",
    "    select=np.random.choice(samples,1)\n",
    "    centroid=data[select]\n",
    "    for i in range(r):\n",
    "        select=samples[np.random.binomial(1,p=vdistribution(data,centroid,l))==1]\n",
    "        centroid=np.r_[centroid, data[select]]\n",
    "        if len(centroid)==n:\n",
    "            return vrecluster(data,k,centroid)\n",
    "    return vrecluster(data,k,centroid)"
   ]
  },
  {
   "cell_type": "code",
   "execution_count": 94,
   "metadata": {
    "collapsed": false
   },
   "outputs": [
    {
     "name": "stdout",
     "output_type": "stream",
     "text": [
      "CPU times: user 148 ms, sys: 4.21 s, total: 4.36 s\n",
      "Wall time: 4.38 s\n"
     ]
    }
   ],
   "source": [
    "%%time\n",
    "vsckpp1=vkmeanspar(gmdata1,20,6,6)"
   ]
  },
  {
   "cell_type": "code",
   "execution_count": 95,
   "metadata": {
    "collapsed": false
   },
   "outputs": [
    {
     "name": "stdout",
     "output_type": "stream",
     "text": [
      "CPU times: user 3.64 s, sys: 0 ns, total: 3.64 s\n",
      "Wall time: 3.67 s\n"
     ]
    }
   ],
   "source": [
    "%%time\n",
    "sckpp1=kmeanspar(gmdata1,20,6,6)"
   ]
  },
  {
   "cell_type": "markdown",
   "metadata": {},
   "source": [
    "**As the results shown above, the broadcasting functions are much quicker than the original functions. The running time is much less after using broadcasting to speed up**"
   ]
  },
  {
   "cell_type": "markdown",
   "metadata": {},
   "source": [
    "## 2. Using Jit:"
   ]
  },
  {
   "cell_type": "code",
   "execution_count": 96,
   "metadata": {
    "collapsed": true
   },
   "outputs": [],
   "source": [
    "@jit\n",
    "def jit_relabel(data,centroid):\n",
    "    n=len(data)\n",
    "    k=len(centroid)\n",
    "    dist=np.array([0]*(n*k)).reshape(n,k).astype(\"float\")\n",
    "    for i in range(n):\n",
    "        for j in range(k):\n",
    "            dist[i,j]=np.sum((data[i]-centroid[j])**2)\n",
    "    return np.argmin(dist,axis=1)+1\n",
    "\n",
    "@jit\n",
    "def jit_recentroid(data,label):\n",
    "    k=len(np.unique(label))\n",
    "    p=data.shape[1]\n",
    "    centroid=np.array([0]*k*p).reshape(k,p).astype(\"float\")\n",
    "    for i in range(k):\n",
    "        centroid[i]=np.mean(data[label==i+1],axis=0)\n",
    "    return centroid\n",
    "\n",
    "@jit\n",
    "def jit_Lloyd(data,centroid,imax=1000):\n",
    "    i=1\n",
    "    k=len(centroid)\n",
    "    n=len(data)\n",
    "    centroid1=centroid\n",
    "    label=jit_relabel(data,centroid1)\n",
    "    centroid2=jit_recentroid(data,label)\n",
    "    while ((np.array_equal(centroid1,centroid2)==False) and i<imax):\n",
    "        i=i+1\n",
    "        label=jit_relabel(data,centroid2)\n",
    "        centroid1=centroid2.copy()\n",
    "        centroid2=jit_recentroid(data,label)\n",
    "    return centroid2, label,i\n",
    "\n",
    "@jit\n",
    "def jit_kmeans(data,k):\n",
    "    n=len(data)\n",
    "    select=np.random.choice(n,k,replace=False)\n",
    "    return data[select]\n",
    "\n",
    "@jit\n",
    "def jit_distance(x,centroid):\n",
    "    return min(np.sum((x-centroid)**2,axis=1))\n",
    "\n",
    "@jit\n",
    "def jit_cost(data, centroid):\n",
    "    cos=0\n",
    "    for i in range(len(data)):\n",
    "        cos=cos+jit_distance(data[i],centroid)\n",
    "    return cos\n",
    "\n",
    "@jit\n",
    "def jit_distribution(data,centroid,l=1):\n",
    "    n=len(data)\n",
    "    distri=np.zeros(n)\n",
    "    cost=jit_cost(data,centroid)\n",
    "    for i in range(n):\n",
    "        p=l*jit_distance(data[i],centroid)/cost\n",
    "        if p<=1:\n",
    "            distri[i]=p\n",
    "        else:\n",
    "            distri[i]=1\n",
    "    return distri\n",
    "\n",
    "@jit\n",
    "def jit_kmeanspp(data,k):\n",
    "    n=len(data)\n",
    "    samples=np.array(list(range(n)))\n",
    "    select=np.random.choice(samples,1)\n",
    "    centroid=data[select]\n",
    "    while len(centroid)<k:\n",
    "        select=np.random.choice(samples,1,p=jit_distribution(data,centroid))\n",
    "        centroid=np.r_[centroid, data[select]]\n",
    "    return centroid\n",
    "\n",
    "@jit\n",
    "def jit_weighteddistance(x,centroid,weight):\n",
    "    return min(weight*np.sum((x-centroid)**2,axis=1))\n",
    "\n",
    "@jit\n",
    "def jit_weightedcost(data,centroid,weight):\n",
    "    cos=0\n",
    "    for i in range(len(data)):\n",
    "        cos=cos+jit_weighteddistance(data[i],centroid,weight[i])\n",
    "    return cos\n",
    "\n",
    "@jit\n",
    "def jit_weighteddistribution(data,centroid,weight):\n",
    "    n=len(data)\n",
    "    distri=np.zeros(n)\n",
    "    wcost=jit_weightedcost(data,centroid,weight)\n",
    "    for i in range(n):\n",
    "        distri[i]=jit_weighteddistance(data[i],centroid,weight[i])/wcost\n",
    "    return distri\n",
    "\n",
    "@jit\n",
    "def jit_weightedkmeanspp(data,k,weight):\n",
    "    n=len(data)\n",
    "    samples=np.array(list(range(n)))\n",
    "    select=np.random.choice(samples,1)\n",
    "    centroid=data[select]\n",
    "    while len(centroid)<k:\n",
    "        select=np.random.choice(samples,1,p=jit_weighteddistribution(data,centroid,weight))\n",
    "        centroid=np.r_[centroid,data[select]]\n",
    "    return centroid\n",
    "\n",
    "@jit\n",
    "def jit_recluster(data,k,centroid):\n",
    "    c=len(centroid)\n",
    "    weight=np.zeros(c)\n",
    "    label=jit_relabel(data,centroid)\n",
    "    for i in range(c):\n",
    "        weight[i]=np.sum(label==(i+1))\n",
    "    return jit_weightedkmeanspp(centroid,k,weight)\n",
    "\n",
    "@jit\n",
    "def jit_kmeanspar(data,k,l,r):\n",
    "    n=len(data)\n",
    "    samples=np.array(list(range(n)))\n",
    "    select=np.random.choice(samples,1)\n",
    "    centroid=data[select]\n",
    "    for i in range(r):\n",
    "        select=samples[np.random.binomial(1,p=jit_distribution(data,centroid,l))==1]\n",
    "        centroid=np.r_[centroid, data[select]]\n",
    "        if len(centroid)==n:\n",
    "            return jit_recluster(data,k,centroid)\n",
    "    return jit_recluster(data,k,centroid)"
   ]
  },
  {
   "cell_type": "code",
   "execution_count": 97,
   "metadata": {
    "collapsed": false
   },
   "outputs": [
    {
     "name": "stdout",
     "output_type": "stream",
     "text": [
      "10 loops, best of 1: 3.74 s per loop\n",
      "10 loops, best of 1: 2.07 s per loop\n"
     ]
    }
   ],
   "source": [
    "# Comparison of runtimes\n",
    "%timeit -r 1 -n 10 kmeanspar(gmdata1,20,6,6)\n",
    "%timeit -r 1 -n 10 jit_kmeanspar(gmdata1,20,6,6)"
   ]
  },
  {
   "cell_type": "markdown",
   "metadata": {
    "collapsed": true
   },
   "source": [
    "**As the results above indicate, the use of jit can appreciably improve the computational speed of k-means||. However, jit's marginal improvement for k-means|| is worse that than observed from the use of broadcasting, so we will therefore use broadcasting as our preferred method.**"
   ]
  },
  {
   "cell_type": "markdown",
   "metadata": {},
   "source": [
    "# Part V\n",
    "# Perform K-means Algorithm and Compare Different Initialization Algorithms:"
   ]
  },
  {
   "cell_type": "markdown",
   "metadata": {},
   "source": [
    "**Since using broadcasting to speed up makes the codes run fastest, we use the broadcasting version of the initialization algorithms to perform the kmeans algorithm.**"
   ]
  },
  {
   "cell_type": "markdown",
   "metadata": {},
   "source": [
    "### 1. Real World Data--spambase:"
   ]
  },
  {
   "cell_type": "markdown",
   "metadata": {},
   "source": [
    "**Perform on spambase:**"
   ]
  },
  {
   "cell_type": "code",
   "execution_count": 98,
   "metadata": {
    "collapsed": false
   },
   "outputs": [
    {
     "name": "stdout",
     "output_type": "stream",
     "text": [
      "CPU times: user 4.17 s, sys: 5min 34s, total: 5min 38s\n",
      "Wall time: 5min 38s\n"
     ]
    }
   ],
   "source": [
    "%%time\n",
    "def vrandomkmeans(data,k):\n",
    "    initial=kmeans(data,k)\n",
    "    return vLloyd(data,initial)\n",
    "rcentersspam,rlabelsspam,rispam=vrandomkmeans(spam,20)"
   ]
  },
  {
   "cell_type": "code",
   "execution_count": 99,
   "metadata": {
    "collapsed": false
   },
   "outputs": [
    {
     "name": "stdout",
     "output_type": "stream",
     "text": [
      "CPU times: user 960 ms, sys: 1min 26s, total: 1min 27s\n",
      "Wall time: 1min 27s\n"
     ]
    }
   ],
   "source": [
    "%%time\n",
    "def vppkmeans(data,k):\n",
    "    initial=vkmeanspp(data,k)\n",
    "    return vLloyd(data,initial)\n",
    "ppcentersspam,pplabelspam,ppispam=vppkmeans(spam,20)"
   ]
  },
  {
   "cell_type": "code",
   "execution_count": 100,
   "metadata": {
    "collapsed": false
   },
   "outputs": [
    {
     "name": "stdout",
     "output_type": "stream",
     "text": [
      "CPU times: user 964 ms, sys: 45.5 s, total: 46.4 s\n",
      "Wall time: 46.5 s\n"
     ]
    }
   ],
   "source": [
    "%%time\n",
    "def vscalablekmeans(data,k,l,r):\n",
    "    initial=vkmeanspar(data,k,l,r)\n",
    "    return vLloyd(data,initial)\n",
    "parcentersspam,parlabelsspam,parispam=vscalablekmeans(spam,20,6,8)"
   ]
  },
  {
   "cell_type": "markdown",
   "metadata": {},
   "source": [
    "**The table of cost and iterations of different initialization algorithms on the spambase dataset:**"
   ]
  },
  {
   "cell_type": "code",
   "execution_count": 101,
   "metadata": {
    "collapsed": false
   },
   "outputs": [
    {
     "data": {
      "text/html": [
       "<div>\n",
       "<table border=\"1\" class=\"dataframe\">\n",
       "  <thead>\n",
       "    <tr style=\"text-align: right;\">\n",
       "      <th></th>\n",
       "      <th>cost</th>\n",
       "      <th>iterations</th>\n",
       "    </tr>\n",
       "  </thead>\n",
       "  <tbody>\n",
       "    <tr>\n",
       "      <th>random</th>\n",
       "      <td>1.529389e+08</td>\n",
       "      <td>226</td>\n",
       "    </tr>\n",
       "    <tr>\n",
       "      <th>kmeans++</th>\n",
       "      <td>2.318091e+07</td>\n",
       "      <td>43</td>\n",
       "    </tr>\n",
       "    <tr>\n",
       "      <th>kmeans||</th>\n",
       "      <td>2.425734e+07</td>\n",
       "      <td>32</td>\n",
       "    </tr>\n",
       "  </tbody>\n",
       "</table>\n",
       "</div>"
      ],
      "text/plain": [
       "                  cost  iterations\n",
       "random    1.529389e+08         226\n",
       "kmeans++  2.318091e+07          43\n",
       "kmeans||  2.425734e+07          32"
      ]
     },
     "execution_count": 101,
     "metadata": {},
     "output_type": "execute_result"
    }
   ],
   "source": [
    "tablespam=pd.DataFrame({'cost':pd.Series([cost(spam,rcentersspam), cost(spam,ppcentersspam), \n",
    "                        cost(spam,parcentersspam)],index=['random', 'kmeans++', 'kmeans||']),\n",
    "                        'iterations':pd.Series([rispam, ppispam, parispam], \n",
    "                        index=['random', 'kmeans++', 'kmeans||'])})\n",
    "tablespam"
   ]
  },
  {
   "cell_type": "markdown",
   "metadata": {},
   "source": [
    "### 2. Synthetic dataset--GaussMixture:"
   ]
  },
  {
   "cell_type": "markdown",
   "metadata": {},
   "source": [
    "**2.1 gmdata1**"
   ]
  },
  {
   "cell_type": "code",
   "execution_count": 102,
   "metadata": {
    "collapsed": false
   },
   "outputs": [
    {
     "name": "stdout",
     "output_type": "stream",
     "text": [
      "CPU times: user 660 ms, sys: 0 ns, total: 660 ms\n",
      "Wall time: 662 ms\n"
     ]
    }
   ],
   "source": [
    "%%time\n",
    "rcenters1,rlabels1,ri1=vrandomkmeans(gmdata1,20)"
   ]
  },
  {
   "cell_type": "code",
   "execution_count": 103,
   "metadata": {
    "collapsed": false
   },
   "outputs": [
    {
     "name": "stdout",
     "output_type": "stream",
     "text": [
      "CPU times: user 1.38 s, sys: 0 ns, total: 1.38 s\n",
      "Wall time: 1.39 s\n"
     ]
    }
   ],
   "source": [
    "%%time\n",
    "ppcenters1,pplabels1,ppi1=vppkmeans(gmdata1,20)"
   ]
  },
  {
   "cell_type": "code",
   "execution_count": 104,
   "metadata": {
    "collapsed": false
   },
   "outputs": [
    {
     "name": "stdout",
     "output_type": "stream",
     "text": [
      "CPU times: user 1.16 s, sys: 5.22 s, total: 6.38 s\n",
      "Wall time: 6.38 s\n"
     ]
    }
   ],
   "source": [
    "%%time\n",
    "parcenters1,parlabels1,pari1=vscalablekmeans(gmdata1,20,6,8)"
   ]
  },
  {
   "cell_type": "markdown",
   "metadata": {},
   "source": [
    "**The table of cost and iterations of different initialization algorithms on gmdata1:**"
   ]
  },
  {
   "cell_type": "code",
   "execution_count": 105,
   "metadata": {
    "collapsed": false
   },
   "outputs": [
    {
     "data": {
      "text/html": [
       "<div>\n",
       "<table border=\"1\" class=\"dataframe\">\n",
       "  <thead>\n",
       "    <tr style=\"text-align: right;\">\n",
       "      <th></th>\n",
       "      <th>cost</th>\n",
       "      <th>iterations</th>\n",
       "    </tr>\n",
       "  </thead>\n",
       "  <tbody>\n",
       "    <tr>\n",
       "      <th>random</th>\n",
       "      <td>145569.188581</td>\n",
       "      <td>32</td>\n",
       "    </tr>\n",
       "    <tr>\n",
       "      <th>kmeans++</th>\n",
       "      <td>145840.232731</td>\n",
       "      <td>52</td>\n",
       "    </tr>\n",
       "    <tr>\n",
       "      <th>kmeans||</th>\n",
       "      <td>147016.594974</td>\n",
       "      <td>37</td>\n",
       "    </tr>\n",
       "  </tbody>\n",
       "</table>\n",
       "</div>"
      ],
      "text/plain": [
       "                   cost  iterations\n",
       "random    145569.188581          32\n",
       "kmeans++  145840.232731          52\n",
       "kmeans||  147016.594974          37"
      ]
     },
     "execution_count": 105,
     "metadata": {},
     "output_type": "execute_result"
    }
   ],
   "source": [
    "table1=pd.DataFrame({'cost':pd.Series([cost(gmdata1,rcenters1), cost(gmdata1,ppcenters1), \n",
    "                        cost(gmdata1,parcenters1)],index=['random', 'kmeans++', 'kmeans||']),\n",
    "                        'iterations':pd.Series([ri1, ppi1, pari1], \n",
    "                        index=['random', 'kmeans++', 'kmeans||'])})\n",
    "table1"
   ]
  },
  {
   "cell_type": "markdown",
   "metadata": {
    "collapsed": false
   },
   "source": [
    "**2.2 gmdata10**"
   ]
  },
  {
   "cell_type": "code",
   "execution_count": 106,
   "metadata": {
    "collapsed": false
   },
   "outputs": [
    {
     "name": "stdout",
     "output_type": "stream",
     "text": [
      "CPU times: user 416 ms, sys: 0 ns, total: 416 ms\n",
      "Wall time: 414 ms\n"
     ]
    }
   ],
   "source": [
    "%%time\n",
    "rcenters10,rlabels10,ri10=vrandomkmeans(gmdata10,20)"
   ]
  },
  {
   "cell_type": "code",
   "execution_count": 107,
   "metadata": {
    "collapsed": false
   },
   "outputs": [
    {
     "name": "stdout",
     "output_type": "stream",
     "text": [
      "CPU times: user 832 ms, sys: 0 ns, total: 832 ms\n",
      "Wall time: 828 ms\n"
     ]
    }
   ],
   "source": [
    "%%time\n",
    "ppcenters10,pplabels10,ppi10=vppkmeans(gmdata10,20)"
   ]
  },
  {
   "cell_type": "code",
   "execution_count": 108,
   "metadata": {
    "collapsed": false
   },
   "outputs": [
    {
     "name": "stdout",
     "output_type": "stream",
     "text": [
      "CPU times: user 740 ms, sys: 3.56 s, total: 4.3 s\n",
      "Wall time: 4.3 s\n"
     ]
    }
   ],
   "source": [
    "%%time\n",
    "parcenters10,parlabels10,pari10=vscalablekmeans(gmdata10,20,6,8)"
   ]
  },
  {
   "cell_type": "markdown",
   "metadata": {},
   "source": [
    "**The table of cost and iterations of different initialization algorithms on gmdata10:**"
   ]
  },
  {
   "cell_type": "code",
   "execution_count": 109,
   "metadata": {
    "collapsed": false
   },
   "outputs": [
    {
     "data": {
      "text/html": [
       "<div>\n",
       "<table border=\"1\" class=\"dataframe\">\n",
       "  <thead>\n",
       "    <tr style=\"text-align: right;\">\n",
       "      <th></th>\n",
       "      <th>cost</th>\n",
       "      <th>iterations</th>\n",
       "    </tr>\n",
       "  </thead>\n",
       "  <tbody>\n",
       "    <tr>\n",
       "      <th>random</th>\n",
       "      <td>487544.522593</td>\n",
       "      <td>20</td>\n",
       "    </tr>\n",
       "    <tr>\n",
       "      <th>kmeans++</th>\n",
       "      <td>234821.209551</td>\n",
       "      <td>26</td>\n",
       "    </tr>\n",
       "    <tr>\n",
       "      <th>kmeans||</th>\n",
       "      <td>248286.442944</td>\n",
       "      <td>23</td>\n",
       "    </tr>\n",
       "  </tbody>\n",
       "</table>\n",
       "</div>"
      ],
      "text/plain": [
       "                   cost  iterations\n",
       "random    487544.522593          20\n",
       "kmeans++  234821.209551          26\n",
       "kmeans||  248286.442944          23"
      ]
     },
     "execution_count": 109,
     "metadata": {},
     "output_type": "execute_result"
    }
   ],
   "source": [
    "table10=pd.DataFrame({'cost':pd.Series([cost(gmdata10,rcenters10), cost(gmdata10,ppcenters10), \n",
    "                        cost(gmdata10,parcenters10)],index=['random', 'kmeans++', 'kmeans||']),\n",
    "                        'iterations':pd.Series([ri10, ppi10, pari10], \n",
    "                        index=['random', 'kmeans++', 'kmeans||'])})\n",
    "table10"
   ]
  },
  {
   "cell_type": "markdown",
   "metadata": {
    "collapsed": true
   },
   "source": [
    "**2.3 gmdata100**"
   ]
  },
  {
   "cell_type": "code",
   "execution_count": 110,
   "metadata": {
    "collapsed": false
   },
   "outputs": [
    {
     "name": "stdout",
     "output_type": "stream",
     "text": [
      "CPU times: user 464 ms, sys: 8 ms, total: 472 ms\n",
      "Wall time: 468 ms\n"
     ]
    }
   ],
   "source": [
    "%%time\n",
    "rcenters100,rlabels100,ri100=vrandomkmeans(gmdata100,20)"
   ]
  },
  {
   "cell_type": "code",
   "execution_count": 111,
   "metadata": {
    "collapsed": false
   },
   "outputs": [
    {
     "name": "stdout",
     "output_type": "stream",
     "text": [
      "CPU times: user 388 ms, sys: 0 ns, total: 388 ms\n",
      "Wall time: 389 ms\n"
     ]
    }
   ],
   "source": [
    "%%time\n",
    "ppcenters100,pplabels100,ppi100=vppkmeans(gmdata100,20)"
   ]
  },
  {
   "cell_type": "code",
   "execution_count": 112,
   "metadata": {
    "collapsed": false
   },
   "outputs": [
    {
     "name": "stdout",
     "output_type": "stream",
     "text": [
      "CPU times: user 892 ms, sys: 6.26 s, total: 7.16 s\n",
      "Wall time: 7.16 s\n"
     ]
    }
   ],
   "source": [
    "%%time\n",
    "parcenters100,parlabels100,pari100=vscalablekmeans(gmdata100,20,6,8)"
   ]
  },
  {
   "cell_type": "markdown",
   "metadata": {},
   "source": [
    "**The table of cost and iterations of different initialization algorithms on gmdata100:**"
   ]
  },
  {
   "cell_type": "code",
   "execution_count": 113,
   "metadata": {
    "collapsed": false
   },
   "outputs": [
    {
     "data": {
      "text/html": [
       "<div>\n",
       "<table border=\"1\" class=\"dataframe\">\n",
       "  <thead>\n",
       "    <tr style=\"text-align: right;\">\n",
       "      <th></th>\n",
       "      <th>cost</th>\n",
       "      <th>iterations</th>\n",
       "    </tr>\n",
       "  </thead>\n",
       "  <tbody>\n",
       "    <tr>\n",
       "      <th>random</th>\n",
       "      <td>1.934502e+06</td>\n",
       "      <td>22</td>\n",
       "    </tr>\n",
       "    <tr>\n",
       "      <th>kmeans++</th>\n",
       "      <td>1.497229e+05</td>\n",
       "      <td>2</td>\n",
       "    </tr>\n",
       "    <tr>\n",
       "      <th>kmeans||</th>\n",
       "      <td>4.111006e+05</td>\n",
       "      <td>26</td>\n",
       "    </tr>\n",
       "  </tbody>\n",
       "</table>\n",
       "</div>"
      ],
      "text/plain": [
       "                  cost  iterations\n",
       "random    1.934502e+06          22\n",
       "kmeans++  1.497229e+05           2\n",
       "kmeans||  4.111006e+05          26"
      ]
     },
     "execution_count": 113,
     "metadata": {},
     "output_type": "execute_result"
    }
   ],
   "source": [
    "table100=pd.DataFrame({'cost':pd.Series([cost(gmdata100,rcenters100), cost(gmdata100,ppcenters100), \n",
    "                        cost(gmdata100,parcenters100)],index=['random', 'kmeans++', 'kmeans||']),\n",
    "                        'iterations':pd.Series([ri100, ppi100, pari100], \n",
    "                        index=['random', 'kmeans++', 'kmeans||'])})\n",
    "table100"
   ]
  },
  {
   "cell_type": "markdown",
   "metadata": {
    "collapsed": true
   },
   "source": [
    "# Part VI\n",
    "# Discussion & Conclusion:"
   ]
  },
  {
   "cell_type": "markdown",
   "metadata": {
    "collapsed": true
   },
   "source": [
    "**For the algorithms above, using broadcasting is the best method to improve computational speed. Another, though less efficous method, is the use of jit as it can modestly improve the performance of k-means||. This result is understandable in the concext of this project as broadcasting is a useful means to improve the speed of matrix operations, many of which are employed by thele algorithms.**"
   ]
  },
  {
   "cell_type": "code",
   "execution_count": 114,
   "metadata": {
    "collapsed": false
   },
   "outputs": [
    {
     "data": {
      "text/html": [
       "<div>\n",
       "<table border=\"1\" class=\"dataframe\">\n",
       "  <thead>\n",
       "    <tr style=\"text-align: right;\">\n",
       "      <th></th>\n",
       "      <th>cost</th>\n",
       "      <th>iterations</th>\n",
       "    </tr>\n",
       "  </thead>\n",
       "  <tbody>\n",
       "    <tr>\n",
       "      <th>random</th>\n",
       "      <td>1.529389e+08</td>\n",
       "      <td>226</td>\n",
       "    </tr>\n",
       "    <tr>\n",
       "      <th>kmeans++</th>\n",
       "      <td>2.318091e+07</td>\n",
       "      <td>43</td>\n",
       "    </tr>\n",
       "    <tr>\n",
       "      <th>kmeans||</th>\n",
       "      <td>2.425734e+07</td>\n",
       "      <td>32</td>\n",
       "    </tr>\n",
       "  </tbody>\n",
       "</table>\n",
       "</div>"
      ],
      "text/plain": [
       "                  cost  iterations\n",
       "random    1.529389e+08         226\n",
       "kmeans++  2.318091e+07          43\n",
       "kmeans||  2.425734e+07          32"
      ]
     },
     "execution_count": 114,
     "metadata": {},
     "output_type": "execute_result"
    }
   ],
   "source": [
    "#results table for spambase\n",
    "tablespam"
   ]
  },
  {
   "cell_type": "markdown",
   "metadata": {},
   "source": [
    "**The table above shows that, for the real world dataset spambase, the total costs resulting k-means++ and k-means|| are much smaller than the cost from using randomly initialized k-means. Also, the iterations times using k-means++ and k-means|| are also much smaller than using random selecting initialization algorithm.**\n",
    "\n",
    "**In addition, the running time using k-means++ and k-means|| are much smaller than using randomly initialized k-means too.** \n",
    "\n",
    "**Therefore, k-means|| and k-means++ are better than randomly initialized k-means in producing initial set of centers for the dataset spambase.** "
   ]
  },
  {
   "cell_type": "code",
   "execution_count": 115,
   "metadata": {
    "collapsed": false
   },
   "outputs": [
    {
     "data": {
      "text/html": [
       "<div>\n",
       "<table border=\"1\" class=\"dataframe\">\n",
       "  <thead>\n",
       "    <tr style=\"text-align: right;\">\n",
       "      <th></th>\n",
       "      <th>cost</th>\n",
       "      <th>iterations</th>\n",
       "    </tr>\n",
       "  </thead>\n",
       "  <tbody>\n",
       "    <tr>\n",
       "      <th>random</th>\n",
       "      <td>145569.188581</td>\n",
       "      <td>32</td>\n",
       "    </tr>\n",
       "    <tr>\n",
       "      <th>kmeans++</th>\n",
       "      <td>145840.232731</td>\n",
       "      <td>52</td>\n",
       "    </tr>\n",
       "    <tr>\n",
       "      <th>kmeans||</th>\n",
       "      <td>147016.594974</td>\n",
       "      <td>37</td>\n",
       "    </tr>\n",
       "  </tbody>\n",
       "</table>\n",
       "</div>"
      ],
      "text/plain": [
       "                   cost  iterations\n",
       "random    145569.188581          32\n",
       "kmeans++  145840.232731          52\n",
       "kmeans||  147016.594974          37"
      ]
     },
     "execution_count": 115,
     "metadata": {},
     "output_type": "execute_result"
    }
   ],
   "source": [
    "#results table for gmdata1\n",
    "table1"
   ]
  },
  {
   "cell_type": "code",
   "execution_count": 116,
   "metadata": {
    "collapsed": false
   },
   "outputs": [
    {
     "data": {
      "text/html": [
       "<div>\n",
       "<table border=\"1\" class=\"dataframe\">\n",
       "  <thead>\n",
       "    <tr style=\"text-align: right;\">\n",
       "      <th></th>\n",
       "      <th>cost</th>\n",
       "      <th>iterations</th>\n",
       "    </tr>\n",
       "  </thead>\n",
       "  <tbody>\n",
       "    <tr>\n",
       "      <th>random</th>\n",
       "      <td>487544.522593</td>\n",
       "      <td>20</td>\n",
       "    </tr>\n",
       "    <tr>\n",
       "      <th>kmeans++</th>\n",
       "      <td>234821.209551</td>\n",
       "      <td>26</td>\n",
       "    </tr>\n",
       "    <tr>\n",
       "      <th>kmeans||</th>\n",
       "      <td>248286.442944</td>\n",
       "      <td>23</td>\n",
       "    </tr>\n",
       "  </tbody>\n",
       "</table>\n",
       "</div>"
      ],
      "text/plain": [
       "                   cost  iterations\n",
       "random    487544.522593          20\n",
       "kmeans++  234821.209551          26\n",
       "kmeans||  248286.442944          23"
      ]
     },
     "execution_count": 116,
     "metadata": {},
     "output_type": "execute_result"
    }
   ],
   "source": [
    "#results table for gmdata10\n",
    "table10"
   ]
  },
  {
   "cell_type": "code",
   "execution_count": 117,
   "metadata": {
    "collapsed": false
   },
   "outputs": [
    {
     "data": {
      "text/html": [
       "<div>\n",
       "<table border=\"1\" class=\"dataframe\">\n",
       "  <thead>\n",
       "    <tr style=\"text-align: right;\">\n",
       "      <th></th>\n",
       "      <th>cost</th>\n",
       "      <th>iterations</th>\n",
       "    </tr>\n",
       "  </thead>\n",
       "  <tbody>\n",
       "    <tr>\n",
       "      <th>random</th>\n",
       "      <td>1.934502e+06</td>\n",
       "      <td>22</td>\n",
       "    </tr>\n",
       "    <tr>\n",
       "      <th>kmeans++</th>\n",
       "      <td>1.497229e+05</td>\n",
       "      <td>2</td>\n",
       "    </tr>\n",
       "    <tr>\n",
       "      <th>kmeans||</th>\n",
       "      <td>4.111006e+05</td>\n",
       "      <td>26</td>\n",
       "    </tr>\n",
       "  </tbody>\n",
       "</table>\n",
       "</div>"
      ],
      "text/plain": [
       "                  cost  iterations\n",
       "random    1.934502e+06          22\n",
       "kmeans++  1.497229e+05           2\n",
       "kmeans||  4.111006e+05          26"
      ]
     },
     "execution_count": 117,
     "metadata": {},
     "output_type": "execute_result"
    }
   ],
   "source": [
    "#results table for gmdata100\n",
    "table100"
   ]
  },
  {
   "cell_type": "markdown",
   "metadata": {},
   "source": [
    "**The above three tables are for three synthetic dataset: gmdata1, gmdata10, gmdata100. These three data are very similar, only that the sphere variance of the simulated centers are different. The sphere variance scale of the simulated centers of gmdata1, gmdata10, gmdata100 are 1:10:100. Therefore, the gmdata100 is more spreaded widely than gmdata10 and gmdata10 is more spreaded widely than gmdata1.**\n",
    "\n",
    "**The costs and iterations times for gmdata1 are very close for the three initialization algorithms. For gmdata10, the kmeans++ and kmeans|| are better than random selecting initialization algorithm in cost, however the cost rate between random selecting and other two initialization algorithms is not large(about 1.5). For gmdata100, the results are much more similar to the results of spambase. The cost ratio between random selecting and other two initialization algorithms is munch larger(about 4-5) and the iterations times for random selecting is much larger than the other two initialization algorithms.**\n",
    "\n",
    "**Based on the above four tables, k-means++ and k-means|| are generally better initialization algorithms than random selection. As the points in the dataset spread more widely, the advantage of k-means++ and k-means|| also grows larger compared with random selection initialization. This makes intuitive sense as when the points in the dataset are spread relatively tightlf, the distribution of initial set of centers selected by k-means++ or k-means|| will not be that dissimilar from the initial set of centers chosen by random selection. However, as the points in the dataset are spread more widely, the distibution of initial set of centers produced by k-means++ or k-means|| will be more widely dispersed than initial set of centers produced by random selection, serving to increase the differnece in the results.**"
   ]
  },
  {
   "cell_type": "markdown",
   "metadata": {},
   "source": [
    "**In general, the results for k-means++ and k-means|| are not dramatically different. The costs and iteration times using these two initialization algorithms are very close for these four datasets. The running time are also similar for k-means++ and k-means||. It is reasonable, because as the paper says, k-means|| is a parallel version of k-means++. As discussed at the begining, when the dataset is massive, k-means++ may be not appropriate and kmeans-|| will be a better initialization algorithm.**"
   ]
  },
  {
   "cell_type": "markdown",
   "metadata": {},
   "source": [
    "# Part VII\n",
    "# Reference:"
   ]
  },
  {
   "cell_type": "code",
   "execution_count": null,
   "metadata": {
    "collapsed": true
   },
   "outputs": [],
   "source": []
  },
  {
   "cell_type": "code",
   "execution_count": null,
   "metadata": {
    "collapsed": true
   },
   "outputs": [],
   "source": []
  },
  {
   "cell_type": "code",
   "execution_count": null,
   "metadata": {
    "collapsed": true
   },
   "outputs": [],
   "source": []
  }
 ],
 "metadata": {
  "kernelspec": {
   "display_name": "Python 3",
   "language": "python",
   "name": "python3"
  },
  "language_info": {
   "codemirror_mode": {
    "name": "ipython",
    "version": 3
   },
   "file_extension": ".py",
   "mimetype": "text/x-python",
   "name": "python",
   "nbconvert_exporter": "python",
   "pygments_lexer": "ipython3",
   "version": "3.5.2"
  }
 },
 "nbformat": 4,
 "nbformat_minor": 2
}
